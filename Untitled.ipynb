{
 "cells": [
  {
   "cell_type": "code",
   "execution_count": 3,
   "id": "5ad6ae4d-7886-4181-9c1e-21ed401bbfd6",
   "metadata": {},
   "outputs": [
    {
     "ename": "NameError",
     "evalue": "name 'faiss_path' is not defined",
     "output_type": "error",
     "traceback": [
      "\u001b[0;31m---------------------------------------------------------------------------\u001b[0m",
      "\u001b[0;31mNameError\u001b[0m                                 Traceback (most recent call last)",
      "Input \u001b[0;32mIn [3]\u001b[0m, in \u001b[0;36m<cell line: 10>\u001b[0;34m()\u001b[0m\n\u001b[1;32m      1\u001b[0m \u001b[38;5;66;03m#编译只有在faiss/python文件夹下应该包含如下三个文件\u001b[39;00m\n\u001b[1;32m      2\u001b[0m \u001b[38;5;66;03m#faiss.py\u001b[39;00m\n\u001b[1;32m      3\u001b[0m \u001b[38;5;66;03m#swigfaiss.py  / swigfaiss_gpu.py\u001b[39;00m\n\u001b[0;32m   (...)\u001b[0m\n\u001b[1;32m      7\u001b[0m \u001b[38;5;66;03m# python -c \"import faiss\"\u001b[39;00m\n\u001b[1;32m      8\u001b[0m \u001b[38;5;66;03m#如果不能import，可能是faiss的路径没配置正确，可以在使用时添加代码\u001b[39;00m\n\u001b[1;32m      9\u001b[0m \u001b[38;5;28;01mimport\u001b[39;00m \u001b[38;5;21;01msys\u001b[39;00m\n\u001b[0;32m---> 10\u001b[0m sys\u001b[38;5;241m.\u001b[39mpath\u001b[38;5;241m.\u001b[39mappend(\u001b[43mfaiss_path\u001b[49m)\n",
      "\u001b[0;31mNameError\u001b[0m: name 'faiss_path' is not defined"
     ]
    }
   ],
   "source": [
    "#编译只有在faiss/python文件夹下应该包含如下三个文件\n",
    "#faiss.py\n",
    "#swigfaiss.py  / swigfaiss_gpu.py\n",
    "#_swigfaiss.so / _swigfaiss_gpu.so\n",
    "\n",
    "#编译不报错并不意味着faiss可以正常使用，\n",
    "# python -c \"import faiss\"\n",
    "#如果不能import，可能是faiss的路径没配置正确，可以在使用时添加代码\n",
    "import sys\n",
    "sys.path.append(faiss_path) # 如 ‘/home/faiss/python/’\n",
    "#可能是有一些symbols丢失了，使用下面的命令查看\n"
   ]
  },
  {
   "cell_type": "code",
   "execution_count": null,
   "id": "3e215cdf-f5ca-4bf2-9416-abbeb477521b",
   "metadata": {},
   "outputs": [],
   "source": [
    "cd python\n",
    "ldd -r _swigfaiss.so\n",
    "# 有时候只有在使用BLAS库的时候报错，使用下面的命令测试\n",
    "python -c \"import faiss, numpy\"\n",
    "faiss.Kmeans(10, 20).train(numpy.random.rand(1000, 10).astype('float32'))"
   ]
  }
 ],
 "metadata": {
  "kernelspec": {
   "display_name": "Python 3 (ipykernel)",
   "language": "python",
   "name": "python3"
  },
  "language_info": {
   "codemirror_mode": {
    "name": "ipython",
    "version": 3
   },
   "file_extension": ".py",
   "mimetype": "text/x-python",
   "name": "python",
   "nbconvert_exporter": "python",
   "pygments_lexer": "ipython3",
   "version": "3.8.0"
  }
 },
 "nbformat": 4,
 "nbformat_minor": 5
}
